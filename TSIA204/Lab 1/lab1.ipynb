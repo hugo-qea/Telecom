{
 "cells": [
  {
   "cell_type": "markdown",
   "metadata": {},
   "source": [
    "# **Computer Lab 1 - Hugo Queniat**"
   ]
  },
  {
   "cell_type": "code",
   "execution_count": 2,
   "metadata": {},
   "outputs": [],
   "source": [
    "#imports\n",
    "\n",
    "import numpy as np\n",
    "import matplotlib.pyplot as plt\n",
    "import pandas as pd\n",
    "import csv\n",
    "from scipy import stats"
   ]
  },
  {
   "cell_type": "markdown",
   "metadata": {},
   "source": [
    "## **Question 1**"
   ]
  },
  {
   "cell_type": "code",
   "execution_count": 3,
   "metadata": {},
   "outputs": [
    {
     "data": {
      "text/html": [
       "<div>\n",
       "<style scoped>\n",
       "    .dataframe tbody tr th:only-of-type {\n",
       "        vertical-align: middle;\n",
       "    }\n",
       "\n",
       "    .dataframe tbody tr th {\n",
       "        vertical-align: top;\n",
       "    }\n",
       "\n",
       "    .dataframe thead th {\n",
       "        text-align: right;\n",
       "    }\n",
       "</style>\n",
       "<table border=\"1\" class=\"dataframe\">\n",
       "  <thead>\n",
       "    <tr style=\"text-align: right;\">\n",
       "      <th></th>\n",
       "      <th>year</th>\n",
       "      <th>gnp</th>\n",
       "      <th>invest</th>\n",
       "      <th>cpi</th>\n",
       "      <th>interest</th>\n",
       "    </tr>\n",
       "  </thead>\n",
       "  <tbody>\n",
       "    <tr>\n",
       "      <th>0</th>\n",
       "      <td>1968</td>\n",
       "      <td>873.4</td>\n",
       "      <td>133.3</td>\n",
       "      <td>82.54</td>\n",
       "      <td>5.16</td>\n",
       "    </tr>\n",
       "    <tr>\n",
       "      <th>1</th>\n",
       "      <td>1969</td>\n",
       "      <td>944.0</td>\n",
       "      <td>149.3</td>\n",
       "      <td>86.79</td>\n",
       "      <td>5.87</td>\n",
       "    </tr>\n",
       "    <tr>\n",
       "      <th>2</th>\n",
       "      <td>1970</td>\n",
       "      <td>992.7</td>\n",
       "      <td>144.2</td>\n",
       "      <td>91.45</td>\n",
       "      <td>5.95</td>\n",
       "    </tr>\n",
       "    <tr>\n",
       "      <th>3</th>\n",
       "      <td>1971</td>\n",
       "      <td>1077.6</td>\n",
       "      <td>166.4</td>\n",
       "      <td>96.01</td>\n",
       "      <td>4.88</td>\n",
       "    </tr>\n",
       "    <tr>\n",
       "      <th>4</th>\n",
       "      <td>1972</td>\n",
       "      <td>1185.9</td>\n",
       "      <td>195.0</td>\n",
       "      <td>100.00</td>\n",
       "      <td>4.50</td>\n",
       "    </tr>\n",
       "    <tr>\n",
       "      <th>5</th>\n",
       "      <td>1973</td>\n",
       "      <td>1326.4</td>\n",
       "      <td>229.8</td>\n",
       "      <td>105.75</td>\n",
       "      <td>6.44</td>\n",
       "    </tr>\n",
       "    <tr>\n",
       "      <th>6</th>\n",
       "      <td>1974</td>\n",
       "      <td>1434.2</td>\n",
       "      <td>228.7</td>\n",
       "      <td>115.08</td>\n",
       "      <td>7.83</td>\n",
       "    </tr>\n",
       "    <tr>\n",
       "      <th>7</th>\n",
       "      <td>1975</td>\n",
       "      <td>1549.2</td>\n",
       "      <td>206.1</td>\n",
       "      <td>125.79</td>\n",
       "      <td>6.25</td>\n",
       "    </tr>\n",
       "    <tr>\n",
       "      <th>8</th>\n",
       "      <td>1976</td>\n",
       "      <td>1718.0</td>\n",
       "      <td>257.9</td>\n",
       "      <td>132.34</td>\n",
       "      <td>5.50</td>\n",
       "    </tr>\n",
       "    <tr>\n",
       "      <th>9</th>\n",
       "      <td>1977</td>\n",
       "      <td>1918.3</td>\n",
       "      <td>324.1</td>\n",
       "      <td>140.05</td>\n",
       "      <td>5.46</td>\n",
       "    </tr>\n",
       "    <tr>\n",
       "      <th>10</th>\n",
       "      <td>1978</td>\n",
       "      <td>2163.9</td>\n",
       "      <td>386.6</td>\n",
       "      <td>150.42</td>\n",
       "      <td>7.46</td>\n",
       "    </tr>\n",
       "    <tr>\n",
       "      <th>11</th>\n",
       "      <td>1979</td>\n",
       "      <td>2417.8</td>\n",
       "      <td>423.0</td>\n",
       "      <td>163.42</td>\n",
       "      <td>10.28</td>\n",
       "    </tr>\n",
       "    <tr>\n",
       "      <th>12</th>\n",
       "      <td>1980</td>\n",
       "      <td>2633.1</td>\n",
       "      <td>402.3</td>\n",
       "      <td>178.64</td>\n",
       "      <td>11.77</td>\n",
       "    </tr>\n",
       "    <tr>\n",
       "      <th>13</th>\n",
       "      <td>1981</td>\n",
       "      <td>2937.7</td>\n",
       "      <td>471.5</td>\n",
       "      <td>195.51</td>\n",
       "      <td>13.42</td>\n",
       "    </tr>\n",
       "    <tr>\n",
       "      <th>14</th>\n",
       "      <td>1982</td>\n",
       "      <td>3057.5</td>\n",
       "      <td>421.9</td>\n",
       "      <td>207.23</td>\n",
       "      <td>11.02</td>\n",
       "    </tr>\n",
       "  </tbody>\n",
       "</table>\n",
       "</div>"
      ],
      "text/plain": [
       "    year     gnp  invest     cpi  interest\n",
       "0   1968   873.4   133.3   82.54      5.16\n",
       "1   1969   944.0   149.3   86.79      5.87\n",
       "2   1970   992.7   144.2   91.45      5.95\n",
       "3   1971  1077.6   166.4   96.01      4.88\n",
       "4   1972  1185.9   195.0  100.00      4.50\n",
       "5   1973  1326.4   229.8  105.75      6.44\n",
       "6   1974  1434.2   228.7  115.08      7.83\n",
       "7   1975  1549.2   206.1  125.79      6.25\n",
       "8   1976  1718.0   257.9  132.34      5.50\n",
       "9   1977  1918.3   324.1  140.05      5.46\n",
       "10  1978  2163.9   386.6  150.42      7.46\n",
       "11  1979  2417.8   423.0  163.42     10.28\n",
       "12  1980  2633.1   402.3  178.64     11.77\n",
       "13  1981  2937.7   471.5  195.51     13.42\n",
       "14  1982  3057.5   421.9  207.23     11.02"
      ]
     },
     "metadata": {},
     "output_type": "display_data"
    }
   ],
   "source": [
    "#read and print data\n",
    "\n",
    "with open('invest.txt') as file:\n",
    "    table = pd.read_table(file, delim_whitespace=True, names=[\"year\", \"gnp\", \"invest\", \"cpi\", \"interest\"], skiprows=1)\n",
    "    display(table)\n",
    "\n"
   ]
  },
  {
   "cell_type": "markdown",
   "metadata": {},
   "source": [
    "## **Question 2**"
   ]
  },
  {
   "cell_type": "code",
   "execution_count": 4,
   "metadata": {},
   "outputs": [
    {
     "data": {
      "image/png": "[encoded data removed]",
      "text/plain": [
       "<Figure size 432x288 with 1 Axes>"
      ]
     },
     "metadata": {
      "needs_background": "light"
     },
     "output_type": "display_data"
    }
   ],
   "source": [
    "# Display a graph of investment vs gnp\n",
    "\n",
    "plt.plot(table['gnp'], table['invest'], 'r-')\n",
    "plt.xlabel('Gross National Product')\n",
    "plt.ylabel('Investment')\n",
    "plt.title('Gross National Product vs Investment')\n",
    "plt.show()\n",
    "%matplotlib inline\n"
   ]
  },
  {
   "cell_type": "code",
   "execution_count": 5,
   "metadata": {},
   "outputs": [],
   "source": [
    "# Logarithm transforms of investment and gnp\n",
    "\n",
    "x = np.log(table['gnp'])\n",
    "y = np.log(table['invest'])\n",
    "\n"
   ]
  },
  {
   "cell_type": "markdown",
   "metadata": {},
   "source": [
    "## **Question 3**"
   ]
  },
  {
   "cell_type": "code",
   "execution_count": 6,
   "metadata": {},
   "outputs": [
    {
     "data": {
      "text/html": [
       "<div>\n",
       "<style scoped>\n",
       "    .dataframe tbody tr th:only-of-type {\n",
       "        vertical-align: middle;\n",
       "    }\n",
       "\n",
       "    .dataframe tbody tr th {\n",
       "        vertical-align: top;\n",
       "    }\n",
       "\n",
       "    .dataframe thead th {\n",
       "        text-align: right;\n",
       "    }\n",
       "</style>\n",
       "<table border=\"1\" class=\"dataframe\">\n",
       "  <thead>\n",
       "    <tr style=\"text-align: right;\">\n",
       "      <th></th>\n",
       "      <th>Slope Estimator</th>\n",
       "      <th>Intercept Estimator</th>\n",
       "      <th>Slope Standard Deviation</th>\n",
       "      <th>Intercept Standard Deviation</th>\n",
       "    </tr>\n",
       "  </thead>\n",
       "  <tbody>\n",
       "    <tr>\n",
       "      <th>0</th>\n",
       "      <td>1.015281</td>\n",
       "      <td>-1.963591</td>\n",
       "      <td>0.055383</td>\n",
       "      <td>0.409547</td>\n",
       "    </tr>\n",
       "  </tbody>\n",
       "</table>\n",
       "</div>"
      ],
      "text/plain": [
       "   Slope Estimator  Intercept Estimator  Slope Standard Deviation  \\\n",
       "0         1.015281            -1.963591                  0.055383   \n",
       "\n",
       "   Intercept Standard Deviation  \n",
       "0                      0.409547  "
      ]
     },
     "metadata": {},
     "output_type": "display_data"
    },
    {
     "data": {
      "image/png": "[encoded data removed]",
      "text/plain": [
       "<Figure size 432x288 with 1 Axes>"
      ]
     },
     "metadata": {
      "needs_background": "light"
     },
     "output_type": "display_data"
    }
   ],
   "source": [
    "# Extimators\n",
    "n = len(x)\n",
    "x_mean = np.mean(x)\n",
    "y_mean= np.mean(y)\n",
    "x_least_squares = np.sum((x - x_mean)**2)\n",
    "\n",
    "slope_estimator = np.sum((x - x_mean) * (y - y_mean)) / x_least_squares\n",
    "intercept_estimator = y_mean - slope_estimator * x_mean\n",
    "\n",
    "sigma2_estimator = (1 / (n - 2)) * np.sum((y - intercept_estimator - slope_estimator * x)**2)\n",
    "\n",
    "slope_std_dev = np.sqrt(sigma2_estimator /x_least_squares)\n",
    "intercept_std_dev = np.sqrt(sigma2_estimator * ((1 / n)+ x_mean**2 / x_least_squares))\n",
    "\n",
    "results = {'Slope Estimator': slope_estimator, \n",
    "           'Intercept Estimator': intercept_estimator,\n",
    "           'Slope Standard Deviation': slope_std_dev, \n",
    "           'Intercept Standard Deviation': intercept_std_dev}\n",
    "\n",
    "df = pd.DataFrame(results, index=[0])\n",
    "display(df)\n",
    "\n",
    "plt.scatter(x, y, label = 'Data')\n",
    "plt.plot(x, intercept_estimator + slope_estimator * x, color='red', label='Linear Regression')\n",
    "plt.legend()\n",
    "plt.xlabel('Logarithmic GNP')\n",
    "plt.ylabel('Logarithmic Investment')\n",
    "plt.title('Scatter Plot of the Logarithmic Data with its Linear Regression')\n",
    "plt.show()\n",
    "\n"
   ]
  },
  {
   "cell_type": "markdown",
   "metadata": {},
   "source": [
    "## **Question 4**"
   ]
  },
  {
   "cell_type": "code",
   "execution_count": 79,
   "metadata": {},
   "outputs": [
    {
     "name": "stdout",
     "output_type": "stream",
     "text": [
      "The Student's t-test for H0: b1 = 0 returns the value of the test statistic\n",
      "t = 18.3320 with the p-value 1.1364e-10.\n"
     ]
    }
   ],
   "source": [
    "# Test for significance of slope\n",
    "\n",
    "def t_p_value(t_statistic, df):\n",
    "\treturn 2 * stats.t.cdf(-abs(t_statistic), df)\n",
    "\n",
    "# Null hypothesis: slope = 0\n",
    "null_hypothesis = 0\n",
    "\n",
    "# Degrees of freedom\n",
    "df = n - 2\n",
    "\n",
    "# Test statistic\n",
    "test_statistic = (slope_estimator - null_hypothesis) / slope_std_dev\n",
    "\n",
    "# P-value\n",
    "p_value = t_p_value(test_statistic, df)\n",
    "\n",
    "print('The Student\\'s t-test for H0: b1 = 0 returns the value of the test statistic')\n",
    "print('t = {:.4f} with the p-value {:.4e}.'.format(test_statistic, p_value))\n"
   ]
  },
  {
   "cell_type": "markdown",
   "metadata": {},
   "source": [
    "## **Question 5**"
   ]
  },
  {
   "cell_type": "code",
   "execution_count": 82,
   "metadata": {},
   "outputs": [
    {
     "name": "stdout",
     "output_type": "stream",
     "text": [
      "The estimated value of y at x = 1000 is 155.9794.\n",
      "The 90% confidence interval for y at x = 1000 is [123.6366, 196.7830].\n",
      "The 90% prediction interval for y at x = 1000 is [117.9555, 206.2608].\n"
     ]
    }
   ],
   "source": [
    "# GNP value 1000\n",
    "\n",
    "x0 = np.log(1000)\n",
    "y_est = intercept_estimator + slope_estimator * x0\n",
    "\n",
    "# t_value for 90%\n",
    "t_value = stats.t.ppf(0.95, df)\n",
    "\n",
    "# Confidence interval at 90%\n",
    "def conf(x):\n",
    "    dev = np.sqrt(sigma2_estimator * ( ( 1 / n ) + (x - x_mean)**2 / x_least_squares ))\n",
    "    return x - t_value * dev, x + t_value * dev\n",
    "\n",
    "# Prediction interval at 90%\n",
    "\n",
    "def pred(x):\n",
    "    dev = np.sqrt(sigma2_estimator * ( 1 + ( 1 / n ) + (x - x_mean)**2 / x_least_squares ))\n",
    "    return x - t_value * dev, x + t_value * dev \n",
    "\n",
    "# Results for GNP value 1000\n",
    "confidence_interval = [conf(y_est)[0], conf(y_est)[1]]\n",
    "prediction_interval = [pred(y_est)[0], pred(y_est)[1]]\n",
    "\n",
    "print('The estimated value of y at x = 1000 is {:.4f}.'.format(np.exp(y_est)))\n",
    "print('The 90% confidence interval for y at x = 1000 is [{:.4f}, {:.4f}].'.format(np.exp(confidence_interval[0]), np.exp(confidence_interval[1])))\n",
    "print('The 90% prediction interval for y at x = 1000 is [{:.4f}, {:.4f}].'.format(np.exp(prediction_interval[0]), np.exp(prediction_interval[1])))\n",
    "\n",
    "\n"
   ]
  },
  {
   "cell_type": "markdown",
   "metadata": {},
   "source": [
    "## **Question 6**"
   ]
  },
  {
   "cell_type": "code",
   "execution_count": 88,
   "metadata": {},
   "outputs": [
    {
     "data": {
      "image/png": "[encoded data removed]",
      "text/plain": [
       "<Figure size 432x288 with 1 Axes>"
      ]
     },
     "metadata": {
      "needs_background": "light"
     },
     "output_type": "display_data"
    }
   ],
   "source": [
    "# Plotting estimation and confidence and prediction intervals\n",
    "\n",
    "# Points to plot\n",
    "x_est = np.linspace(np.min(x), np.max(x), 100)\n",
    "y_est = intercept_estimator + slope_estimator * x_est\n",
    "\n",
    "# Confidence\n",
    "conf_low, conf_up = conf(y_est)\n",
    "\n",
    "# Prediction\n",
    "pred_low, pred_up = pred(y_est)\n",
    "\n",
    "plt.scatter(x, y, label = 'Data')\n",
    "plt.plot(x, intercept_estimator + slope_estimator * x, color='black', label='Linear Regression')\n",
    "plt.plot(x_est, conf_low, 'g--', label='Confidence Interval')\n",
    "plt.plot(x_est, conf_up, 'g--')\n",
    "plt.plot(x_est, pred_low, 'r-.', label='Prediction Interval')\n",
    "plt.plot(x_est, pred_up, 'r-.')\n",
    "plt.legend()\n",
    "plt.xlabel('Logarithmic GNP')\n",
    "plt.ylabel('Logarithmic Investment')\n",
    "plt.title('Scatter Plot of the Logarithmic Data with its Linear Regression and Confidence and Prediction Intervals')\n",
    "plt.show()\n",
    "\n"
   ]
  }
 ],
 "metadata": {
  "kernelspec": {
   "display_name": "base",
   "language": "python",
   "name": "python3"
  },
  "language_info": {
   "codemirror_mode": {
    "name": "ipython",
    "version": 3
   },
   "file_extension": ".py",
   "mimetype": "text/x-python",
   "name": "python",
   "nbconvert_exporter": "python",
   "pygments_lexer": "ipython3",
   "version": "3.8.8"
  },
  "orig_nbformat": 4,
  "vscode": {
   "interpreter": {
    "hash": "8fc1e3a352f37463eb86e25589a07dd0392dce66f64c7c5bdf348e8dcf81db9d"
   }
  }
 },
 "nbformat": 4,
 "nbformat_minor": 2
}
