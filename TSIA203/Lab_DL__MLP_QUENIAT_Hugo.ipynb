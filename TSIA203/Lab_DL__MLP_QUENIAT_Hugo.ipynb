{
  "cells": [
    {
      "attachments": {},
      "cell_type": "markdown",
      "metadata": {},
      "source": [
        "# QUENIAT Hugo Lab 1"
      ]
    },
    {
      "attachments": {},
      "cell_type": "markdown",
      "metadata": {
        "id": "WpYK9fIlyZCq"
      },
      "source": [
        "# Lab Deep Learning / Multi-Layer Perceptron for classification / in pytorch\n",
        "\n",
        "**Author: geoffroy.peeters@telecom-paris.fr**\n",
        "\n",
        "For any remark or suggestion, please feel free to contact me.\n",
        "\n",
        "Last edit: 2020/04/27 peeters\n",
        "\n",
        "Read the \"introduction to pytorch\" slides first: https://perso.telecom-paristech.fr/gpeeters/doc/pytorch/\n",
        "\n",
        "**Is is recommended that you first perform the ```Lab Deep Learning / Multi-Layer Perceptron for regression / in pytorch``` Lab to understand how to write a Neural Network in pytorch.**\n",
        "\n",
        "\n",
        "## Objective:\n",
        "\n",
        "The objective of this lab is to develop a two hidden layers MLP to perform image **classification**.\n",
        "\n",
        "While the previous Lab ```Lab Deep Learning / Multi-Layer Perceptron for regression / in pytorch``` focused on how to write a Neural Network, the present Lab focuses on managing datasets and splitting training and testing .\n",
        "\n",
        "We will use MNIST for the image dataset.\n",
        "\n",
        "## Your task:\n",
        "\n",
        "You need to add the missing parts in the code (parts between ```# --- START CODE HERE``` and ```# --- END CODE HERE```)\n",
        "\n",
        "## Documentation:\n",
        "- NN: https://pytorch.org/docs/stable/nn.html\n",
        "- Autograd: https://pytorch.org/docs/stable/autograd.html\n",
        "- Optim: https://pytorch.org/docs/stable/optim.html\n"
      ]
    },
    {
      "cell_type": "code",
      "execution_count": 42,
      "metadata": {
        "id": "h6o3NZfNyZCt"
      },
      "outputs": [],
      "source": [
        "import torch\n",
        "import torch.nn as nn\n",
        "import torch.nn.functional as F\n",
        "import torch.optim as optim\n",
        "from torchvision import datasets, transforms\n",
        "import matplotlib.pyplot as plt"
      ]
    },
    {
      "attachments": {},
      "cell_type": "markdown",
      "metadata": {
        "id": "Vy7u-IVkyZCu"
      },
      "source": [
        "## Data management\n",
        "\n",
        "It is common to separate the datasets into\n",
        "- a **training** part (used to find the network parameters which minimize the loss)\n",
        "- a **test part** (used to estimate the performances).\n",
        "\n",
        "The training part can itself be further splitted into a training and a validation part (the validation part is then used to fix the hyper-parameters of the system).\n",
        "\n",
        "When performing ```batch gradient descent``` the whole training set is used to compute the gradients (which itself is used for the parameter optimization). \n",
        "However when performing ```stochastic or mini-batch gradient descent``` only a part of the training data is used at each iteration.\n",
        "\n",
        "We therefore needs to write all the necessary code, to get these mini-batches of data, be sure that all data have been seen, potentially randomize the order of appearance of these data and potentially perform some modifications of the data before giving them to the network.\n",
        "\n",
        "Fortunatelly, pytorch has associated to it (but not included in it) a nice package (```torchvision```) which allows to do all that for us.\n",
        "\n",
        "This package allows to perform these process for any datasets but has a pre-tuned method for the ```MNIST```datasets.\n",
        "\n",
        "### Datasets\n",
        "\n",
        "In the following we will us ```datasets.MNIST``` to load the train and test data.\n",
        "\n",
        "We need to tell it to download the data, where to dowload them and if we want the training or the testing part of it.\n",
        "\n",
        "We then tell it if we want to apply some transformations to the data.\n",
        "\n",
        "For this lab, we will transform the data by\n",
        "- 1) transforming them to torch tensors (using ```transforms.ToTensor()```); since by default they are not torch tensors\n",
        "- 2) normalize them to zero mean and unit standard deviation (using ```transforms.Normalize()```).\n",
        "\n",
        "It is of course possible to also apply data augmentation.\n",
        "\n",
        "Since we have several transforms to be performed, we will compose them using ```transforms.Compose([transform1, transform2])```\n",
        "\n",
        "The corresponding datasets is a class which contains the pairs of [input tensors $X$, corresponding ground-truth label $y$].\n",
        "\n",
        "### Dataloader\n",
        "\n",
        "Another nice pytorch facility is the ```Dataloader``` which transforms the dataset to be used as an iterator (i.e. within ```for data in myDataloader: ```).\n",
        "\n",
        "Moreover, ```Dataloader``` allows to specify \n",
        "- how many data will be provided each time it is called (```batch_size```)\n",
        "- if the order of appearance of the data with be random (````shuffle````).\n",
        "\n",
        "We therefore convert our datasets (train and test) to ```DataLoader``` that are directly used as iterator during the iterations (it DataLoader manage directly the mini-batch and shuffling)."
      ]
    },
    {
      "cell_type": "code",
      "execution_count": 43,
      "metadata": {
        "id": "zsSEvakPyZCv"
      },
      "outputs": [],
      "source": [
        "# --- START CODE HERE\n",
        "train_set = datasets.MNIST('./data', train=True, download=True, transform = transforms.Compose([transforms.ToTensor(), transforms.Normalize((0,), (1,))])) # training set, transformed to a tensor and normalized\n",
        "train_loader = torch.utils.data.DataLoader(train_set, batch_size=64, shuffle=True) # data loader for training set\n",
        "test_set = datasets.MNIST('./data', train=False, download=True, transform = transforms.Compose([transforms.ToTensor(), transforms.Normalize((0,), (1,))])) # testing set, transformed to a tensor and normalized\n",
        "test_loader = torch.utils.data.DataLoader(test_set, batch_size=64, shuffle=True) # data loader for testing set\n",
        "# --- END CODE HERE"
      ]
    },
    {
      "cell_type": "code",
      "execution_count": 44,
      "metadata": {
        "colab": {
          "base_uri": "https://localhost:8080/",
          "height": 240
        },
        "id": "FFuEXr0tyZCw",
        "outputId": "59ad5329-e7b3-4dd3-f0f7-79bbbcfde7f7"
      },
      "outputs": [
        {
          "name": "stdout",
          "output_type": "stream",
          "text": [
            "dataset type: <class 'torchvision.datasets.mnist.MNIST'>\n",
            "dataset size: 60000\n",
            "X data: torch.Size([1, 28, 28])\n",
            "y data: 5\n"
          ]
        }
      ],
      "source": [
        "print(\"dataset type: {}\".format(type(train_set)))\n",
        "print(\"dataset size: {}\".format(len(train_set)))\n",
        "print(\"X data: {}\".format(train_set[0][0].size()))\n",
        "print(\"y data: {}\".format(train_set[0][1]))"
      ]
    },
    {
      "attachments": {},
      "cell_type": "markdown",
      "metadata": {
        "id": "piAf25dxyZCx"
      },
      "source": [
        "### Display the first 5 data of MNIST dataset."
      ]
    },
    {
      "cell_type": "code",
      "execution_count": 45,
      "metadata": {
        "id": "Jsa2MAEhyZCx"
      },
      "outputs": [
        {
          "data": {
            "image/png": "[encoded data removed]",
            "text/plain": [
              "<Figure size 640x480 with 5 Axes>"
            ]
          },
          "metadata": {},
          "output_type": "display_data"
        }
      ],
      "source": [
        "# ------------------------------------\n",
        "for num in range(0,5):\n",
        "    one_data = next(iter(train_loader))\n",
        "    plt.subplot(1,5,num+1)\n",
        "    plt.imshow(one_data[0][0][0,:,:])\n",
        "    plt.title(one_data[1][0].item())"
      ]
    },
    {
      "attachments": {},
      "cell_type": "markdown",
      "metadata": {
        "id": "bo6-KX8UyZCy"
      },
      "source": [
        "## Network setting\n",
        "\n",
        "While image classification, is usually performed using Convolutional Neural Networks, we will use here a Multi-Layer-Perceptron (also named ```fully-connected```).\n",
        "For this, we will flatten (i.e. convert the iamge 2D matrix to a 1D vector) the input images.\n",
        "\n",
        "- The input images are of size 28*28 and are converted to vectors of size ```n_in```=784. \n",
        "\n",
        "- The two hidden layers have````n_h1````=500 and ```n_h2```=256 unit/neurons each and ```Relu```activations.\n",
        "\n",
        "- The output are the ```n_out```=10 classes (the 10 digits to be recognized). \n",
        "\n",
        "Since we deal with a muti-class problem (10 classes), the output activations is therefore a ```softmax```.\n",
        "\n",
        "Note that since the ```softmax```output will be given to a ```cross-entropy```, the ```log```et the latter can be directly added to the ```softmax```. This leads to the pytorch function ```F.log_softmax```.\n"
      ]
    },
    {
      "cell_type": "code",
      "execution_count": 46,
      "metadata": {
        "id": "H0uIIQb9yZCy"
      },
      "outputs": [],
      "source": [
        "class Net(nn.Module):\n",
        "    def __init__(self):\n",
        "        n_in = 28*28\n",
        "        n_h1 = 500\n",
        "        n_h2 = 256\n",
        "        n_out = 10\n",
        "        super(Net, self).__init__()\n",
        "        # --- START CODE HERE\n",
        "        self.hidden1 = nn.Linear(n_in, n_h1) # first hidden layer, 784 -> 500\n",
        "        self.hidden2 = nn.Linear(n_h1, n_h2) # second hidden layer, 500 -> 256\n",
        "        self.predict = nn.Linear(n_h2, n_out) # output layer, 256 -> 10\n",
        "        # --- END CODE HERE\n",
        "    def forward(self, x):\n",
        "        # --- START CODE HERE\n",
        "        x = self.predict(F.relu(self.hidden2(F.relu(self.hidden1(x.view(-1, 28*28)))))) # going through each layer\n",
        "        # --- END CODE HERE\n",
        "        return F.log_softmax(x, dim=1)"
      ]
    },
    {
      "attachments": {},
      "cell_type": "markdown",
      "metadata": {
        "id": "x7qcgKFwyZCz"
      },
      "source": [
        "## Defining the train and test functions\n",
        "\n",
        "In the present lab, we distinguish between train and test data. \n",
        "We therefore write\n",
        "- a train function (to learn the network parameters on the train data),\n",
        "- a test function (to evaluate the network's performances on the test data).\n",
        "\n",
        "The ```train``` and ```test```function will perform the computation for a given ```epoch```.\n",
        "The functions therefore only need to ```loop over``` the mini-batches.\n",
        "This is now easy since we defined our ```Dataloader```for train and test.\n",
        "\n",
        "For the train function, for each mini-batch, we  \n",
        "- compute the forward pass by passing the data to the model: haty = model(x)\n",
        "- compute the the loss (the criterion)\n",
        "- putting at zero the gradients of all the parameters of the network (this is important since, by default, pytorch accumulate the gradients over time)\n",
        "- computing the backpropagation (using as before .backward())\n",
        "- performing one step of optimization (using .step())\n",
        "\n",
        "For the train function, we set the model to train mode (```model.train()```). This allows to set some specific behaviours for training (such as activate the dropout).\n",
        "\n",
        "For the test function, we set the model to train mode (```model.eval()```). This allows to set some specific behaviours for training (such as removing the dropout).\n",
        "\n",
        "\n",
        "Since we are dealing with a multi-class problem (10 classes), we will minimize as loss the ```cross-entropy``` (named negative-log-likelihood ```nll_loss```in pytorch).\n",
        "Since ```nll_loss```does not contains the ```log``` we have added it directly to the softmax by using the ```log_softmax```as output activation of our network.\n",
        "\n",
        "Note that we could use the loss from the nn package (```torch.nn.NLLLoss```) it is then a class which needs to be first instanciated. \n",
        "We can also use the same but as a function (```F.nll_loss()```) which can be used directly without instanciating the class."
      ]
    },
    {
      "cell_type": "code",
      "execution_count": 47,
      "metadata": {
        "id": "3dGuPt96yZCz"
      },
      "outputs": [],
      "source": [
        "def train(model, train_loader, optimizer, epoch):\n",
        "    model.train()\n",
        "    for batch_idx, (data, target) in enumerate(train_loader):\n",
        "        # --- START CODE HERE\n",
        "        haty = model(data) # forward\n",
        "        loss = F.nll_loss(haty, target) # loss computation\n",
        "        optimizer.zero_grad() # reset gradient\n",
        "        loss.backward() # backward propagation\n",
        "        optimizer.step() # update parameters\n",
        "        # --- END CODE HERE\n",
        "        \n",
        "        if batch_idx % 100 == 0:\n",
        "            print('epoch {}, loss {}'.format(epoch, loss.item()))"
      ]
    },
    {
      "cell_type": "code",
      "execution_count": 48,
      "metadata": {
        "id": "zI8QtzV2yZC0"
      },
      "outputs": [],
      "source": [
        "def test(model, test_loader):\n",
        "    model.eval()\n",
        "    test_loss = 0\n",
        "    correct = 0\n",
        "    with torch.no_grad():\n",
        "        for data, target in test_loader:\n",
        "            # --- START CODE HERE\n",
        "            haty = model(data) # apply model\n",
        "            test_loss += F.nll_loss(haty, target) # sum up batch loss\n",
        "            # --- STOP CODE HERE\n",
        "        \n",
        "    test_loss /= len(test_loader.dataset)\n",
        "    correct /= len(test_loader.dataset)\n",
        "    print('\\nTest set: Average loss: {}, Accuracy: {}\\n'.format(test_loss, correct))"
      ]
    },
    {
      "attachments": {},
      "cell_type": "markdown",
      "metadata": {
        "id": "9MXQIbcJyZC0"
      },
      "source": [
        "## Looping over epochs\n",
        "\n",
        "\n",
        "We finally define, how we will optimize our parameters by defining an optimizer.\n",
        "We will use here a very simple one: the SGD (```optim.SGD```) with a learning rate of 0.01.\n",
        "\n",
        "At each iteration, we then call the train and the test function."
      ]
    },
    {
      "cell_type": "code",
      "execution_count": 49,
      "metadata": {
        "id": "ofYcX05ZyZC0"
      },
      "outputs": [
        {
          "name": "stdout",
          "output_type": "stream",
          "text": [
            "epoch 1, loss 2.3008880615234375\n",
            "epoch 1, loss 0.8860387206077576\n",
            "epoch 1, loss 0.4138098955154419\n",
            "epoch 1, loss 0.31175166368484497\n",
            "epoch 1, loss 0.2636837363243103\n",
            "epoch 1, loss 0.18312138319015503\n",
            "epoch 1, loss 0.3429211378097534\n",
            "epoch 1, loss 0.26791343092918396\n",
            "epoch 1, loss 0.26391664147377014\n",
            "epoch 1, loss 0.13358093798160553\n",
            "\n",
            "Test set: Average loss: 0.0035029437858611345, Accuracy: 0.0\n",
            "\n",
            "epoch 2, loss 0.3815475404262543\n",
            "epoch 2, loss 0.2936788499355316\n",
            "epoch 2, loss 0.10418375581502914\n",
            "epoch 2, loss 0.07357887923717499\n",
            "epoch 2, loss 0.24647167325019836\n",
            "epoch 2, loss 0.12523359060287476\n",
            "epoch 2, loss 0.14221739768981934\n",
            "epoch 2, loss 0.2989606261253357\n",
            "epoch 2, loss 0.12663783133029938\n",
            "epoch 2, loss 0.08041131496429443\n",
            "\n",
            "Test set: Average loss: 0.0022033322602510452, Accuracy: 0.0\n",
            "\n",
            "epoch 3, loss 0.15534356236457825\n",
            "epoch 3, loss 0.11875225603580475\n",
            "epoch 3, loss 0.26906993985176086\n",
            "epoch 3, loss 0.061389826238155365\n",
            "epoch 3, loss 0.1468520313501358\n",
            "epoch 3, loss 0.0614803209900856\n",
            "epoch 3, loss 0.04848893731832504\n",
            "epoch 3, loss 0.02131684683263302\n",
            "epoch 3, loss 0.07289641350507736\n",
            "epoch 3, loss 0.14203131198883057\n",
            "\n",
            "Test set: Average loss: 0.0016414598794654012, Accuracy: 0.0\n",
            "\n",
            "epoch 4, loss 0.11113574355840683\n",
            "epoch 4, loss 0.11888343095779419\n",
            "epoch 4, loss 0.07222078740596771\n",
            "epoch 4, loss 0.08400727808475494\n",
            "epoch 4, loss 0.10758543014526367\n",
            "epoch 4, loss 0.13949474692344666\n",
            "epoch 4, loss 0.04338201880455017\n",
            "epoch 4, loss 0.09793873131275177\n",
            "epoch 4, loss 0.04668668657541275\n",
            "epoch 4, loss 0.060306284576654434\n",
            "\n",
            "Test set: Average loss: 0.0013642630074173212, Accuracy: 0.0\n",
            "\n",
            "epoch 5, loss 0.02177850529551506\n",
            "epoch 5, loss 0.11989795416593552\n",
            "epoch 5, loss 0.08540286123752594\n",
            "epoch 5, loss 0.10013646632432938\n",
            "epoch 5, loss 0.07396575808525085\n",
            "epoch 5, loss 0.20031338930130005\n",
            "epoch 5, loss 0.07681138068437576\n",
            "epoch 5, loss 0.03354383260011673\n",
            "epoch 5, loss 0.08746765553951263\n",
            "epoch 5, loss 0.006105827633291483\n",
            "\n",
            "Test set: Average loss: 0.001253000576980412, Accuracy: 0.0\n",
            "\n",
            "epoch 6, loss 0.07892369478940964\n",
            "epoch 6, loss 0.061379268765449524\n",
            "epoch 6, loss 0.039801452308893204\n",
            "epoch 6, loss 0.04558476805686951\n",
            "epoch 6, loss 0.025850903242826462\n",
            "epoch 6, loss 0.09799272567033768\n",
            "epoch 6, loss 0.029502395540475845\n",
            "epoch 6, loss 0.03234576806426048\n",
            "epoch 6, loss 0.05450979992747307\n",
            "epoch 6, loss 0.16708742082118988\n",
            "\n",
            "Test set: Average loss: 0.0011055923532694578, Accuracy: 0.0\n",
            "\n",
            "epoch 7, loss 0.04302104562520981\n",
            "epoch 7, loss 0.08693592250347137\n",
            "epoch 7, loss 0.01779470033943653\n",
            "epoch 7, loss 0.005531881935894489\n",
            "epoch 7, loss 0.028050238266587257\n",
            "epoch 7, loss 0.016591133549809456\n",
            "epoch 7, loss 0.012159070000052452\n",
            "epoch 7, loss 0.030461829155683517\n",
            "epoch 7, loss 0.06745760887861252\n",
            "epoch 7, loss 0.005129436496645212\n",
            "\n",
            "Test set: Average loss: 0.0010802133474498987, Accuracy: 0.0\n",
            "\n",
            "epoch 8, loss 0.007828496396541595\n",
            "epoch 8, loss 0.0195322148501873\n",
            "epoch 8, loss 0.06442152708768845\n",
            "epoch 8, loss 0.023361526429653168\n",
            "epoch 8, loss 0.06789077818393707\n",
            "epoch 8, loss 0.013515126891434193\n",
            "epoch 8, loss 0.02089633047580719\n",
            "epoch 8, loss 0.037369467318058014\n",
            "epoch 8, loss 0.02089579962193966\n",
            "epoch 8, loss 0.07453402131795883\n",
            "\n",
            "Test set: Average loss: 0.0010757946874946356, Accuracy: 0.0\n",
            "\n",
            "epoch 9, loss 0.013135362416505814\n",
            "epoch 9, loss 0.00820920616388321\n",
            "epoch 9, loss 0.005951064173132181\n",
            "epoch 9, loss 0.01962493360042572\n",
            "epoch 9, loss 0.015476711094379425\n",
            "epoch 9, loss 0.0671980232000351\n",
            "epoch 9, loss 0.01677861623466015\n",
            "epoch 9, loss 0.01946837455034256\n",
            "epoch 9, loss 0.027719557285308838\n",
            "epoch 9, loss 0.023669786751270294\n",
            "\n",
            "Test set: Average loss: 0.0009728915174491704, Accuracy: 0.0\n",
            "\n",
            "epoch 10, loss 0.014847834594547749\n",
            "epoch 10, loss 0.010151718743145466\n",
            "epoch 10, loss 0.008828062564134598\n",
            "epoch 10, loss 0.037648316472768784\n",
            "epoch 10, loss 0.036931112408638\n",
            "epoch 10, loss 0.021286284551024437\n",
            "epoch 10, loss 0.007328647188842297\n",
            "epoch 10, loss 0.01073308102786541\n",
            "epoch 10, loss 0.02877833880484104\n",
            "epoch 10, loss 0.0031764262821525335\n",
            "\n",
            "Test set: Average loss: 0.0009847143664956093, Accuracy: 0.0\n",
            "\n"
          ]
        }
      ],
      "source": [
        "model = Net()\n",
        "optimizer = optim.SGD(model.parameters(), lr=0.01, momentum=0.9)\n",
        "nb_epoch = 10\n",
        "for epoch in range(1, nb_epoch + 1):\n",
        "        # --- START CODE HERE\n",
        "        train(model, train_loader, optimizer, epoch) # train\n",
        "        test(model, test_loader) # test\n",
        "        # --- END CODE HERE"
      ]
    },
    {
      "cell_type": "code",
      "execution_count": 50,
      "metadata": {
        "id": "Rmga0J_oyZC1"
      },
      "outputs": [
        {
          "name": "stdout",
          "output_type": "stream",
          "text": [
            "For image number 0, the model predicted 8\n",
            "For image number 1, the model predicted 7\n",
            "For image number 2, the model predicted 0\n",
            "For image number 3, the model predicted 9\n",
            "For image number 4, the model predicted 6\n",
            "For image number 5, the model predicted 4\n",
            "For image number 6, the model predicted 8\n",
            "For image number 7, the model predicted 7\n"
          ]
        },
        {
          "data": {
            "image/png": "[encoded data removed]",
            "text/plain": [
              "<Figure size 640x480 with 8 Axes>"
            ]
          },
          "metadata": {},
          "output_type": "display_data"
        }
      ],
      "source": [
        "# Testing the model on a few images\n",
        "for num in range(0,8):\n",
        "    one_data = next(iter(train_loader))\n",
        "    plt.subplot(1,8,num+1)\n",
        "    plt.imshow(one_data[0][0][0,:,:])\n",
        "    plt.title(one_data[1][0].item())\n",
        "    print(\"For image number {}, the model predicted {}\".format(num, torch.argmax(model(one_data[0][0].view(-1, 28*28)))))"
      ]
    }
  ],
  "metadata": {
    "colab": {
      "provenance": []
    },
    "kernelspec": {
      "display_name": "Python 3",
      "language": "python",
      "name": "python3"
    },
    "language_info": {
      "codemirror_mode": {
        "name": "ipython",
        "version": 3
      },
      "file_extension": ".py",
      "mimetype": "text/x-python",
      "name": "python",
      "nbconvert_exporter": "python",
      "pygments_lexer": "ipython3",
      "version": "3.8.15"
    },
    "toc": {
      "base_numbering": 1,
      "nav_menu": {},
      "number_sections": true,
      "sideBar": true,
      "skip_h1_title": false,
      "title_cell": "Table of Contents",
      "title_sidebar": "Contents",
      "toc_cell": false,
      "toc_position": {
        "height": "calc(100% - 180px)",
        "left": "10px",
        "top": "150px",
        "width": "165px"
      },
      "toc_section_display": true,
      "toc_window_display": false
    }
  },
  "nbformat": 4,
  "nbformat_minor": 0
}
