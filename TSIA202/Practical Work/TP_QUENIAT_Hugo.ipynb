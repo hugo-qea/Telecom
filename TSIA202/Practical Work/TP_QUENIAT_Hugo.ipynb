{
 "cells": [
  {
   "cell_type": "markdown",
   "metadata": {},
   "source": [
    "# Travaux Pratiques - Hugo Queniat"
   ]
  },
  {
   "cell_type": "code",
   "execution_count": null,
   "metadata": {},
   "outputs": [],
   "source": [
    "# Imports\n",
    "\n",
    "import numpy as np"
   ]
  },
  {
   "cell_type": "markdown",
   "metadata": {},
   "source": [
    "## Exercice 2"
   ]
  },
  {
   "cell_type": "markdown",
   "metadata": {},
   "source": [
    "1.\n",
    "\n",
    ".\n",
    ".\n",
    ".\n",
    ".\n",
    "\n",
    "\n",
    "$ I_n(\\lambda) = \\frac{2 \\pi}{n} |\\frac{1}{2 \\pi} \\sum_{t=0}^{n-1} (X_t - \\hat{\\mu_n}) \\exp{-i \\lambda t}|^2$"
   ]
  },
  {
   "cell_type": "code",
   "execution_count": null,
   "metadata": {},
   "outputs": [],
   "source": [
    "def computeIn(process,k,m):\n",
    "\t\n"
   ]
  },
  {
   "cell_type": "markdown",
   "metadata": {},
   "source": [
    "3.\n",
    "\n",
    "$\\int_{- \\pi}^{\\pi} I_n(\\lambda) \\exp (2i \\pi \\lambda \\tau) \\mathrm{d} \\lambda = \\frac{1}{n} \\sum_{j,k \\in \\{0,... ,n-1\\}} (X_j - \\hat{\\mu_n}) (X_k - \\hat{\\mu_n}) \\int_{- \\pi}^{\\pi} \\frac{\\exp (i \\lambda(\\tau - (j-k)))}{2 \\pi} \\mathrm{d} \\lambda \\\\$\n",
    "$= \\frac{1}{n} \\sum_{k=0}^{n-1- \\tau} (X_k - \\hat{\\mu_n}) (X_{k+\\tau} - \\hat{\\mu_n}) = \\hat{\\gamma} (\\tau)$"
   ]
  },
  {
   "cell_type": "markdown",
   "metadata": {},
   "source": [
    "## Exercice 3"
   ]
  },
  {
   "cell_type": "markdown",
   "metadata": {},
   "source": [
    "### Part I - Yule-Walker Equation"
   ]
  },
  {
   "cell_type": "markdown",
   "metadata": {},
   "source": [
    "1.\n",
    "\n",
    "$\\forall (t,m) \\in \\mathbb{Z} \\times \\mathbb{N}^*$, $\\mathcal{H}_{t,m}^{X} = Vect(X_s, t-m < s \\leq t) \\\\$\n",
    "Or, $\\forall t \\in \\mathbb{Z}$, $X_t = \\sum_{k=1}^{p} \\phi_k X_{t-k} + Z_t \\\\$\n",
    "D'où, $\\forall m > p$, $proj(X_t|\\mathcal{H}_{t-1,m}^{X}) = \\sum_{k=1}^{p} \\phi_k X_{t-k}$ et $Z_t = proj(X_t| \\mathcal{H}_{t-1,m}^{X \\bot})\\\\$\n",
    "Donc, $\\forall h \\geq 1$, $\\mathbb{E}[X_{t-h}Z_t]=0$\n",
    "\n",
    "\t"
   ]
  },
  {
   "cell_type": "markdown",
   "metadata": {},
   "source": [
    "2.\n",
    "\n",
    "Soit $h \\geq 1$, $\\gamma (h) = Cov(X_t, X_{t-h}) = \\sum_{k=1}^{p} \\phi_{k} Cov(X_{t-k}, X_{t-h}) \\\\$\n",
    "Ainsi, $\\gamma (h) = \\sum_{k=1}^{p} \\phi_{k} \\gamma (h-k) \\\\$\n"
   ]
  },
  {
   "cell_type": "markdown",
   "metadata": {},
   "source": [
    "3.\n",
    "\n",
    "$\\gamma (0) = Cov(X_t, X_t) = \\mathbb{E} [X_t X_t] = \\sum_{k=1}^{p} \\phi_{k} \\mathbb{E} [X_{t-k} X_t] + \\mathbb{E} [X_t Z_t] \\\\$\n",
    "$\\gamma (0) = \\sum_{k=1}^{p} \\phi_{k} \\gamma (-k) + \\sigma^2$"
   ]
  },
  {
   "cell_type": "markdown",
   "metadata": {},
   "source": [
    "4.\n",
    "\n",
    "On remarque que $\\forall h \\geq 0$, $\\gamma (h) - \\sum_{k=1}^{p} \\phi_{k} \\gamma (h-k) = \\delta_{0}(h) \\sigma^2 \\\\$\n",
    "$\\\\$\n",
    "Finalement, la relation fonctionne avec $\\Gamma_{p+1} = (\\gamma (i-j))_{0 \\leq i,j \\leq p}$\n"
   ]
  }
 ],
 "metadata": {
  "language_info": {
   "name": "python"
  },
  "orig_nbformat": 4
 },
 "nbformat": 4,
 "nbformat_minor": 2
}
